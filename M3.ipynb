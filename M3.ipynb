{
 "cells": [
  {
   "cell_type": "markdown",
   "metadata": {},
   "source": [
    "# LE-Net:"
   ]
  },
  {
   "cell_type": "code",
   "execution_count": 1,
   "metadata": {},
   "outputs": [],
   "source": [
    "from tensorflow.keras.callbacks import ModelCheckpoint, ReduceLROnPlateau, EarlyStopping"
   ]
  },
  {
   "cell_type": "code",
   "execution_count": 2,
   "metadata": {},
   "outputs": [],
   "source": [
    "from tensorflow.keras.models import Sequential"
   ]
  },
  {
   "cell_type": "code",
   "execution_count": 3,
   "metadata": {},
   "outputs": [],
   "source": [
    "from tensorflow.keras.layers import Convolution2D"
   ]
  },
  {
   "cell_type": "code",
   "execution_count": 4,
   "metadata": {},
   "outputs": [],
   "source": [
    "from tensorflow.keras.layers import MaxPooling2D"
   ]
  },
  {
   "cell_type": "code",
   "execution_count": 5,
   "metadata": {},
   "outputs": [],
   "source": [
    "from tensorflow.keras.layers import Flatten"
   ]
  },
  {
   "cell_type": "code",
   "execution_count": 6,
   "metadata": {},
   "outputs": [],
   "source": [
    "from tensorflow.keras.layers import Dense"
   ]
  },
  {
   "cell_type": "code",
   "execution_count": 7,
   "metadata": {},
   "outputs": [],
   "source": [
    "import warnings\n",
    "warnings.filterwarnings('ignore')"
   ]
  },
  {
   "cell_type": "code",
   "execution_count": 8,
   "metadata": {},
   "outputs": [],
   "source": [
    "Classifier=Sequential()"
   ]
  },
  {
   "cell_type": "code",
   "execution_count": 9,
   "metadata": {},
   "outputs": [
    {
     "name": "stdout",
     "output_type": "stream",
     "text": [
      "Model: \"sequential\"\n",
      "_________________________________________________________________\n",
      "Layer (type)                 Output Shape              Param #   \n",
      "=================================================================\n",
      "conv2d (Conv2D)              (None, 100, 100, 32)      896       \n",
      "_________________________________________________________________\n",
      "max_pooling2d (MaxPooling2D) (None, 50, 50, 32)        0         \n",
      "_________________________________________________________________\n",
      "conv2d_1 (Conv2D)            (None, 16, 16, 128)       36992     \n",
      "_________________________________________________________________\n",
      "max_pooling2d_1 (MaxPooling2 (None, 8, 8, 128)         0         \n",
      "_________________________________________________________________\n",
      "flatten (Flatten)            (None, 8192)              0         \n",
      "_________________________________________________________________\n",
      "dense (Dense)                (None, 256)               2097408   \n",
      "_________________________________________________________________\n",
      "dense_1 (Dense)              (None, 2)                 514       \n",
      "=================================================================\n",
      "Total params: 2,135,810\n",
      "Trainable params: 2,135,810\n",
      "Non-trainable params: 0\n",
      "_________________________________________________________________\n"
     ]
    }
   ],
   "source": [
    "Classifier.add(Convolution2D(32,3,3,input_shape=(300,300,3),activation='relu'))\n",
    "Classifier.add(MaxPooling2D(pool_size=(2,2)))\n",
    "Classifier.add(Convolution2D(128,3,3,activation='relu'))\n",
    "Classifier.add(MaxPooling2D(pool_size=(2,2)))\n",
    "Classifier.add(Flatten())\n",
    "Classifier.add(Dense(256, activation='relu'))\n",
    "Classifier.add(Dense(2, activation='softmax'))\n",
    "\n",
    "Classifier.compile(optimizer='adam',loss='binary_crossentropy',metrics=['accuracy'])\n",
    "Classifier.summary()"
   ]
  },
  {
   "cell_type": "code",
   "execution_count": 10,
   "metadata": {},
   "outputs": [],
   "source": [
    "from tensorflow.keras.preprocessing.image import ImageDataGenerator"
   ]
  },
  {
   "cell_type": "code",
   "execution_count": 11,
   "metadata": {},
   "outputs": [],
   "source": [
    "train_datagen=ImageDataGenerator(rescale=1./255,shear_range=0.2,zoom_range=0.2,horizontal_flip=True)"
   ]
  },
  {
   "cell_type": "code",
   "execution_count": 12,
   "metadata": {},
   "outputs": [],
   "source": [
    "test_datagen=ImageDataGenerator(rescale=1./255)"
   ]
  },
  {
   "cell_type": "code",
   "execution_count": 13,
   "metadata": {},
   "outputs": [
    {
     "name": "stdout",
     "output_type": "stream",
     "text": [
      "Found 402 images belonging to 2 classes.\n"
     ]
    }
   ],
   "source": [
    "training_set=train_datagen.flow_from_directory('Data/train',target_size=(300,300),batch_size=32,class_mode='categorical')"
   ]
  },
  {
   "cell_type": "code",
   "execution_count": 14,
   "metadata": {},
   "outputs": [
    {
     "name": "stdout",
     "output_type": "stream",
     "text": [
      "Found 126 images belonging to 2 classes.\n"
     ]
    }
   ],
   "source": [
    "test_set=test_datagen.flow_from_directory('Data/test',target_size=(300,300),batch_size=32,class_mode='categorical')"
   ]
  },
  {
   "cell_type": "code",
   "execution_count": 15,
   "metadata": {},
   "outputs": [],
   "source": [
    "from IPython.display import display"
   ]
  },
  {
   "cell_type": "code",
   "execution_count": 16,
   "metadata": {},
   "outputs": [],
   "source": [
    "img_dims = 150\n",
    "epochs = 30\n",
    "batch_size = 32"
   ]
  },
  {
   "cell_type": "code",
   "execution_count": 17,
   "metadata": {},
   "outputs": [
    {
     "name": "stdout",
     "output_type": "stream",
     "text": [
      "WARNING:tensorflow:From C:\\Users\\SPIRO15\\AppData\\Local\\Temp/ipykernel_13180/3080110501.py:1: Model.fit_generator (from tensorflow.python.keras.engine.training) is deprecated and will be removed in a future version.\n",
      "Instructions for updating:\n",
      "Please use Model.fit, which supports generators.\n",
      "Epoch 1/30\n",
      "12/12 [==============================] - 11s 939ms/step - loss: 0.8407 - accuracy: 0.4622 - val_loss: 0.6931 - val_accuracy: 0.5104\n",
      "Epoch 2/30\n",
      "12/12 [==============================] - 8s 683ms/step - loss: 0.6889 - accuracy: 0.5459 - val_loss: 0.6874 - val_accuracy: 0.5938\n",
      "Epoch 3/30\n",
      "12/12 [==============================] - 8s 665ms/step - loss: 0.6729 - accuracy: 0.6297 - val_loss: 0.6784 - val_accuracy: 0.5104\n",
      "Epoch 4/30\n",
      "12/12 [==============================] - 8s 693ms/step - loss: 0.6443 - accuracy: 0.6432 - val_loss: 0.6930 - val_accuracy: 0.5833\n",
      "Epoch 5/30\n",
      "12/12 [==============================] - 8s 682ms/step - loss: 0.6521 - accuracy: 0.6054 - val_loss: 0.6919 - val_accuracy: 0.5417\n",
      "Epoch 6/30\n",
      "12/12 [==============================] - 8s 695ms/step - loss: 0.6271 - accuracy: 0.6622 - val_loss: 0.6349 - val_accuracy: 0.5312\n",
      "Epoch 7/30\n",
      "12/12 [==============================] - 8s 690ms/step - loss: 0.5927 - accuracy: 0.6838 - val_loss: 0.6710 - val_accuracy: 0.6146\n",
      "Epoch 8/30\n",
      "12/12 [==============================] - 8s 668ms/step - loss: 0.5824 - accuracy: 0.6838 - val_loss: 0.6048 - val_accuracy: 0.6146\n",
      "Epoch 9/30\n",
      "12/12 [==============================] - 8s 676ms/step - loss: 0.5327 - accuracy: 0.7189 - val_loss: 0.6651 - val_accuracy: 0.6146\n",
      "Epoch 10/30\n",
      "12/12 [==============================] - 8s 672ms/step - loss: 0.6218 - accuracy: 0.6595 - val_loss: 0.5871 - val_accuracy: 0.6146\n",
      "Epoch 11/30\n",
      "12/12 [==============================] - 9s 713ms/step - loss: 0.5317 - accuracy: 0.7541 - val_loss: 0.6275 - val_accuracy: 0.5625\n",
      "Epoch 12/30\n",
      "12/12 [==============================] - 8s 695ms/step - loss: 0.4845 - accuracy: 0.7486 - val_loss: 0.4928 - val_accuracy: 0.8125\n",
      "Epoch 13/30\n",
      "12/12 [==============================] - 8s 685ms/step - loss: 0.3946 - accuracy: 0.8459 - val_loss: 0.4034 - val_accuracy: 0.8021\n",
      "Epoch 14/30\n",
      "12/12 [==============================] - 8s 682ms/step - loss: 0.3921 - accuracy: 0.8243 - val_loss: 0.5529 - val_accuracy: 0.6354\n",
      "Epoch 15/30\n",
      "12/12 [==============================] - 8s 673ms/step - loss: 0.3676 - accuracy: 0.8432 - val_loss: 0.4572 - val_accuracy: 0.8021\n",
      "Epoch 16/30\n",
      "12/12 [==============================] - 8s 682ms/step - loss: 0.3388 - accuracy: 0.8676 - val_loss: 0.4983 - val_accuracy: 0.8125\n",
      "Epoch 17/30\n",
      "12/12 [==============================] - 8s 678ms/step - loss: 0.3383 - accuracy: 0.8568 - val_loss: 0.4275 - val_accuracy: 0.8125\n",
      "Epoch 18/30\n",
      "12/12 [==============================] - 8s 672ms/step - loss: 0.3206 - accuracy: 0.8676 - val_loss: 0.3966 - val_accuracy: 0.8438\n",
      "Epoch 19/30\n",
      "12/12 [==============================] - 8s 683ms/step - loss: 0.3222 - accuracy: 0.8595 - val_loss: 0.4139 - val_accuracy: 0.8438\n",
      "Epoch 20/30\n",
      "12/12 [==============================] - 8s 670ms/step - loss: 0.3867 - accuracy: 0.8135 - val_loss: 0.4584 - val_accuracy: 0.8229\n",
      "Epoch 21/30\n",
      "12/12 [==============================] - 8s 686ms/step - loss: 0.3718 - accuracy: 0.8243 - val_loss: 0.4232 - val_accuracy: 0.8438\n",
      "Epoch 22/30\n",
      "12/12 [==============================] - 8s 671ms/step - loss: 0.3340 - accuracy: 0.8514 - val_loss: 0.4498 - val_accuracy: 0.7708\n",
      "Epoch 23/30\n",
      "12/12 [==============================] - 8s 686ms/step - loss: 0.3563 - accuracy: 0.8378 - val_loss: 0.3253 - val_accuracy: 0.8750\n",
      "Epoch 24/30\n",
      "12/12 [==============================] - 8s 680ms/step - loss: 0.3083 - accuracy: 0.8757 - val_loss: 0.4046 - val_accuracy: 0.8438\n",
      "Epoch 25/30\n",
      "12/12 [==============================] - 8s 674ms/step - loss: 0.3354 - accuracy: 0.8568 - val_loss: 0.3942 - val_accuracy: 0.8125\n",
      "Epoch 26/30\n",
      "12/12 [==============================] - 8s 704ms/step - loss: 0.3142 - accuracy: 0.8776 - val_loss: 0.4161 - val_accuracy: 0.8229\n",
      "Epoch 27/30\n",
      "12/12 [==============================] - 8s 676ms/step - loss: 0.2772 - accuracy: 0.8838 - val_loss: 0.4072 - val_accuracy: 0.8646\n",
      "Epoch 28/30\n",
      "12/12 [==============================] - 8s 689ms/step - loss: 0.2990 - accuracy: 0.8784 - val_loss: 0.4020 - val_accuracy: 0.8438\n",
      "Epoch 29/30\n",
      "12/12 [==============================] - 8s 695ms/step - loss: 0.2875 - accuracy: 0.8854 - val_loss: 0.3751 - val_accuracy: 0.8229\n",
      "Epoch 30/30\n",
      "12/12 [==============================] - 8s 689ms/step - loss: 0.2691 - accuracy: 0.9054 - val_loss: 0.6093 - val_accuracy: 0.6979\n"
     ]
    },
    {
     "data": {
      "text/plain": [
       "<tensorflow.python.keras.callbacks.History at 0x20d3202c070>"
      ]
     },
     "execution_count": 17,
     "metadata": {},
     "output_type": "execute_result"
    }
   ],
   "source": [
    "Classifier.fit_generator( training_set, steps_per_epoch=training_set.samples // batch_size, \n",
    "           epochs=epochs, \n",
    "           validation_data=test_set,validation_steps=test_set.samples // batch_size)"
   ]
  },
  {
   "cell_type": "code",
   "execution_count": 19,
   "metadata": {},
   "outputs": [],
   "source": [
    "import h5py"
   ]
  },
  {
   "cell_type": "code",
   "execution_count": 20,
   "metadata": {},
   "outputs": [],
   "source": [
    "Classifier.save('Casting.h5')"
   ]
  },
  {
   "cell_type": "code",
   "execution_count": 21,
   "metadata": {},
   "outputs": [],
   "source": [
    "from keras.models import load_model"
   ]
  },
  {
   "cell_type": "code",
   "execution_count": 22,
   "metadata": {},
   "outputs": [],
   "source": [
    "model=load_model('Casting.h5')"
   ]
  },
  {
   "cell_type": "code",
   "execution_count": 23,
   "metadata": {},
   "outputs": [],
   "source": [
    "import numpy as np"
   ]
  },
  {
   "cell_type": "code",
   "execution_count": 24,
   "metadata": {},
   "outputs": [],
   "source": [
    "from tensorflow.keras.preprocessing import image\n",
    "test_image=image.load_img('ok1.jpeg',target_size=(300,300))"
   ]
  },
  {
   "cell_type": "code",
   "execution_count": 25,
   "metadata": {},
   "outputs": [
    {
     "data": {
      "image/png": "[encoded data removed]",
      "text/plain": [
       "<Figure size 432x288 with 1 Axes>"
      ]
     },
     "metadata": {
      "needs_background": "light"
     },
     "output_type": "display_data"
    }
   ],
   "source": [
    "import matplotlib.pyplot as plt\n",
    "img = plt.imshow(test_image)"
   ]
  },
  {
   "cell_type": "code",
   "execution_count": 26,
   "metadata": {},
   "outputs": [],
   "source": [
    "test_image=image.img_to_array(test_image)"
   ]
  },
  {
   "cell_type": "code",
   "execution_count": 27,
   "metadata": {},
   "outputs": [],
   "source": [
    "test_image=np.expand_dims(test_image,axis=0)"
   ]
  },
  {
   "cell_type": "code",
   "execution_count": 28,
   "metadata": {},
   "outputs": [],
   "source": [
    "result=model.predict(test_image)"
   ]
  },
  {
   "cell_type": "code",
   "execution_count": 29,
   "metadata": {},
   "outputs": [],
   "source": [
    "prediction = result[0]"
   ]
  },
  {
   "cell_type": "code",
   "execution_count": 30,
   "metadata": {},
   "outputs": [],
   "source": [
    "classes=training_set.class_indices"
   ]
  },
  {
   "cell_type": "code",
   "execution_count": 31,
   "metadata": {},
   "outputs": [
    {
     "data": {
      "text/plain": [
       "{'def_front': 0, 'ok_front': 1}"
      ]
     },
     "execution_count": 31,
     "metadata": {},
     "output_type": "execute_result"
    }
   ],
   "source": [
    "classes"
   ]
  },
  {
   "cell_type": "code",
   "execution_count": 32,
   "metadata": {},
   "outputs": [],
   "source": [
    "prediction=list(prediction)"
   ]
  },
  {
   "cell_type": "code",
   "execution_count": 33,
   "metadata": {},
   "outputs": [
    {
     "data": {
      "text/plain": [
       "[0.0, 1.0]"
      ]
     },
     "execution_count": 33,
     "metadata": {},
     "output_type": "execute_result"
    }
   ],
   "source": [
    "prediction"
   ]
  },
  {
   "cell_type": "code",
   "execution_count": 34,
   "metadata": {},
   "outputs": [],
   "source": [
    "classes=['def_front','ok_front']"
   ]
  },
  {
   "cell_type": "code",
   "execution_count": 35,
   "metadata": {},
   "outputs": [],
   "source": [
    "output=zip(classes,prediction)"
   ]
  },
  {
   "cell_type": "code",
   "execution_count": 36,
   "metadata": {},
   "outputs": [],
   "source": [
    "output=dict(output)"
   ]
  },
  {
   "cell_type": "code",
   "execution_count": 37,
   "metadata": {},
   "outputs": [
    {
     "data": {
      "text/plain": [
       "{'def_front': 0.0, 'ok_front': 1.0}"
      ]
     },
     "execution_count": 37,
     "metadata": {},
     "output_type": "execute_result"
    }
   ],
   "source": [
    "output"
   ]
  },
  {
   "cell_type": "code",
   "execution_count": 38,
   "metadata": {},
   "outputs": [
    {
     "name": "stdout",
     "output_type": "stream",
     "text": [
      "Good condition\n"
     ]
    }
   ],
   "source": [
    "if output['def_front']==1.0 :\n",
    "    print(\"Different in Front\")\n",
    "elif output['ok_front']==1.0:\n",
    "    print(\"Good condition\")"
   ]
  }
 ],
 "metadata": {
  "kernelspec": {
   "display_name": "Python 3",
   "language": "python",
   "name": "python3"
  },
  "language_info": {
   "codemirror_mode": {
    "name": "ipython",
    "version": 3
   },
   "file_extension": ".py",
   "mimetype": "text/x-python",
   "name": "python",
   "nbconvert_exporter": "python",
   "pygments_lexer": "ipython3",
   "version": "3.8.8"
  }
 },
 "nbformat": 4,
 "nbformat_minor": 2
}
